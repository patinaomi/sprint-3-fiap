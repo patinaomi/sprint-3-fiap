{
 "cells": [
  {
   "cell_type": "markdown",
   "metadata": {},
   "source": [
    "Nosso processo de análise será focado no formulário de cadastro, com o objetivo de extrair informações valiosas para aprimorar nossos serviços:\n",
    "\n",
    "1. Identificação de Gênero e Perfil de Usuários: Vamos identificar o gênero mais comum entre os cadastros e prever o perfil daqueles envolvidos na administração do negócio e dos processos. \n",
    "* Será utilizado a classificação --> EU ACHO QUE ESSA ANÁLISE PODEMOS DESCARTAR UMA VEZ QUE PARA VERIFICAR QUAL O GENERO MAIS COMUM NÃO PRECISAMOS DE UM MODELO DE IA,\n E NO TREINAMENTO ESTAMOS JÁ DANDO A RESPOSTA PARA O MODELO\n",
    "\n",
    "2. Análise de Regiões de Atendimento: Analisaremos as regiões de atendimento para determinar onde concentrar nossos esforços e melhorar a experiência do usuário nessas áreas. Com base nos dados, vamos tentar prever qual região teremos mais cadastros realizados.\n",
    "* Será utilizado a Regressão neste processo\n",
    "\n",
    "3. Domínios de E-mail e Preferências de Login: Será feita uma análise dos domínios de e-mail mais comuns entre os cadastros, além de identificar aqueles que preferem fazer login de forma direta, sem a necessidade de se cadastrar. Essas informações nos ajudarão a implementar novos serviços no site, como a integração com a API do Github ou Linkedin, que permite aos usuários fazer o login em apenas dois cliques, proporcionando uma experiência mais rápida e eficiente.\n",
    "* Iremos utilizar a Classificação: Para identificar os domínios de e-mail mais comuns e analisar as preferências de login,  também podemos usar esses mesmos algoritmos para prever se um usuário preferirá fazer login de forma direta ou realizar o cadastro.\n",
    "\n",
    "Estamos constantemente buscando formas de melhorar nossos processos, e a análise dessas informações será fundamental para esse propósito."
   ]
  },
  {
   "cell_type": "markdown",
   "metadata": {},
   "source": [
    "Passo 1: Carregar os Dados\n",
    "Vamos utilizar os dados em xlsx.Nosso formulário possui os campos\n",
    "1. Nome\n",
    "2. Sobrenome\n",
    "3. Email\n",
    "4. Telefone\n",
    "5. Senha\n",
    "6. ConfirmacaoSenha\n",
    "7. Genero\n",
    "8. Empresa\n",
    "9. DDD"
   ]
  },
  {
   "cell_type": "code",
   "execution_count": 1,
   "metadata": {},
   "outputs": [],
   "source": [
    "#--------------------( Importações dos dados ) --------------------#\n",
    "\n",
    "# Tratar os dados\n",
    "import pandas as pd\n",
    "\n",
    "# Fazer as previsões\n",
    "from sklearn.preprocessing import LabelEncoder\n",
    "from sklearn.model_selection import train_test_split\n",
    "from sklearn.ensemble import RandomForestClassifier\n",
    "from sklearn.metrics import accuracy_score\n",
    "from sklearn.metrics import confusion_matrix, ConfusionMatrixDisplay\n",
    "from sklearn.metrics import f1_score, accuracy_score, precision_score, recall_score, classification_report\n",
    "from sklearn.linear_model import LinearRegression\n",
    "from sklearn.metrics import r2_score, mean_squared_error\n",
    "from sklearn.metrics import mean_squared_error, mean_absolute_error, r2_score\n",
    "from scipy.stats import pearsonr\n",
    "from sklearn.linear_model import LogisticRegression\n",
    "\n",
    "# Gerar gráficos\n",
    "import matplotlib.pyplot as plt  \n",
    "import seaborn as sns\n"
   ]
  },
  {
   "cell_type": "code",
   "execution_count": 2,
   "metadata": {},
   "outputs": [
    {
     "data": {
      "text/html": [
       "<div>\n",
       "<style scoped>\n",
       "    .dataframe tbody tr th:only-of-type {\n",
       "        vertical-align: middle;\n",
       "    }\n",
       "\n",
       "    .dataframe tbody tr th {\n",
       "        vertical-align: top;\n",
       "    }\n",
       "\n",
       "    .dataframe thead th {\n",
       "        text-align: right;\n",
       "    }\n",
       "</style>\n",
       "<table border=\"1\" class=\"dataframe\">\n",
       "  <thead>\n",
       "    <tr style=\"text-align: right;\">\n",
       "      <th></th>\n",
       "      <th>Nome</th>\n",
       "      <th>Sobrenome</th>\n",
       "      <th>Email</th>\n",
       "      <th>Telefone</th>\n",
       "      <th>Senha</th>\n",
       "      <th>ConfirmacaoSenha</th>\n",
       "      <th>Genero</th>\n",
       "      <th>Empresa</th>\n",
       "      <th>DDD</th>\n",
       "    </tr>\n",
       "  </thead>\n",
       "  <tbody>\n",
       "    <tr>\n",
       "      <th>0</th>\n",
       "      <td>Alice</td>\n",
       "      <td>Silva</td>\n",
       "      <td>alice@gmail.com</td>\n",
       "      <td>11987654321</td>\n",
       "      <td>123456</td>\n",
       "      <td>123456</td>\n",
       "      <td>Feminino</td>\n",
       "      <td>Empresa1</td>\n",
       "      <td>11</td>\n",
       "    </tr>\n",
       "    <tr>\n",
       "      <th>1</th>\n",
       "      <td>Bob</td>\n",
       "      <td>Souza</td>\n",
       "      <td>bob@gmail.com</td>\n",
       "      <td>11958856655</td>\n",
       "      <td>abcdef</td>\n",
       "      <td>abcdef</td>\n",
       "      <td>Masculino</td>\n",
       "      <td>Empresa2</td>\n",
       "      <td>11</td>\n",
       "    </tr>\n",
       "    <tr>\n",
       "      <th>2</th>\n",
       "      <td>Carlos</td>\n",
       "      <td>Oliveira</td>\n",
       "      <td>carlos@gmail.com</td>\n",
       "      <td>11991234567</td>\n",
       "      <td>789654</td>\n",
       "      <td>789654</td>\n",
       "      <td>Feminino</td>\n",
       "      <td>Empresa3</td>\n",
       "      <td>11</td>\n",
       "    </tr>\n",
       "    <tr>\n",
       "      <th>3</th>\n",
       "      <td>Daniel</td>\n",
       "      <td>Santos</td>\n",
       "      <td>daniel@github.com.br</td>\n",
       "      <td>11987654321</td>\n",
       "      <td>123abc</td>\n",
       "      <td>password</td>\n",
       "      <td>Prefiro não dizer</td>\n",
       "      <td>Empresa4</td>\n",
       "      <td>11</td>\n",
       "    </tr>\n",
       "    <tr>\n",
       "      <th>4</th>\n",
       "      <td>Eduarda</td>\n",
       "      <td>Cavalcanti</td>\n",
       "      <td>eduarda@gmail.com</td>\n",
       "      <td>11958856655</td>\n",
       "      <td>123abc</td>\n",
       "      <td>123abc</td>\n",
       "      <td>Feminino</td>\n",
       "      <td>Empresa5</td>\n",
       "      <td>11</td>\n",
       "    </tr>\n",
       "  </tbody>\n",
       "</table>\n",
       "</div>"
      ],
      "text/plain": [
       "      Nome   Sobrenome                 Email     Telefone   Senha  \\\n",
       "0    Alice       Silva       alice@gmail.com  11987654321  123456   \n",
       "1      Bob       Souza         bob@gmail.com  11958856655  abcdef   \n",
       "2   Carlos    Oliveira      carlos@gmail.com  11991234567  789654   \n",
       "3   Daniel      Santos  daniel@github.com.br  11987654321  123abc   \n",
       "4  Eduarda  Cavalcanti     eduarda@gmail.com  11958856655  123abc   \n",
       "\n",
       "  ConfirmacaoSenha             Genero   Empresa  DDD  \n",
       "0           123456           Feminino  Empresa1   11  \n",
       "1           abcdef          Masculino  Empresa2   11  \n",
       "2           789654           Feminino  Empresa3   11  \n",
       "3         password  Prefiro não dizer  Empresa4   11  \n",
       "4           123abc           Feminino  Empresa5   11  "
      ]
     },
     "execution_count": 2,
     "metadata": {},
     "output_type": "execute_result"
    }
   ],
   "source": [
    "\n",
    "## Carregar os dados e tratar as informações que irei utilizar.\n",
    "\n",
    "base_cadastro = pd.read_excel('base_cadastro.xlsx')\n",
    "\n",
    "# Criar um DataFrame com os dados\n",
    "df = pd.DataFrame(base_cadastro)\n",
    "\n",
    "# Exibir o DataFrame\n",
    "df.head()\n",
    "\n"
   ]
  },
  {
   "cell_type": "code",
   "execution_count": null,
   "metadata": {},
   "outputs": [],
   "source": [
    "# Exibir informações da tabela\n",
    "df.info()"
   ]
  },
  {
   "cell_type": "code",
   "execution_count": null,
   "metadata": {},
   "outputs": [],
   "source": [
    "## Verificar os valores na coluna genero\n",
    "\n",
    "df['Genero'].unique()"
   ]
  },
  {
   "cell_type": "markdown",
   "metadata": {},
   "source": [
    "Passo 2: Pré-processamento dos Dados\n",
    "Vou apagar o que não precisar e tratar o restante dos dados"
   ]
  },
  {
   "cell_type": "code",
   "execution_count": null,
   "metadata": {},
   "outputs": [],
   "source": [
    "# Mapear os valores 'Feminino', 'Masculino' e 'Prefiro não dizer' para valores numéricos\n",
    "df['Genero_Num'] = df['Genero'].map({'Feminino': 0, 'Masculino': 1, 'Prefiro não dizer': 2})\n",
    "\n"
   ]
  },
  {
   "cell_type": "code",
   "execution_count": null,
   "metadata": {},
   "outputs": [],
   "source": [
    "df.head()"
   ]
  },
  {
   "cell_type": "code",
   "execution_count": null,
   "metadata": {},
   "outputs": [],
   "source": [
    "## Apagar as colunas que não iremos utilizar na análise\n",
    "\n",
    "df = df.drop(['Nome', 'Sobrenome', 'Email', 'Telefone', 'Senha', 'ConfirmacaoSenha', 'Empresa', 'DDD'], axis=1)\n"
   ]
  },
  {
   "cell_type": "code",
   "execution_count": null,
   "metadata": {},
   "outputs": [],
   "source": [
    "df.head()"
   ]
  },
  {
   "cell_type": "code",
   "execution_count": null,
   "metadata": {},
   "outputs": [],
   "source": [
    "\n",
    "\n",
    "# Transformar a coluna Genero em valores numéricos\n",
    "le = LabelEncoder()\n",
    "df['Genero_Num'] = le.fit_transform(df['Genero'])"
   ]
  },
  {
   "cell_type": "code",
   "execution_count": null,
   "metadata": {},
   "outputs": [],
   "source": [
    "df['Genero_Num']"
   ]
  },
  {
   "cell_type": "code",
   "execution_count": null,
   "metadata": {},
   "outputs": [],
   "source": [
    "# Selecionar as colunas para treino\n",
    "X = df[['Genero_Num']]\n",
    "\n",
    "# Selecionar a coluna Genero como objetivo\n",
    "y = df['Genero']\n"
   ]
  },
  {
   "cell_type": "code",
   "execution_count": null,
   "metadata": {},
   "outputs": [],
   "source": [
    "df.info()"
   ]
  },
  {
   "cell_type": "code",
   "execution_count": null,
   "metadata": {},
   "outputs": [],
   "source": [
    "\n",
    "\n",
    "# Dividir os dados em conjuntos de treino e teste (80% treino, 20% teste)\n",
    "X_train, X_test, y_train, y_test = train_test_split(X, y, test_size=0.2, random_state=42)\n"
   ]
  },
  {
   "cell_type": "code",
   "execution_count": null,
   "metadata": {},
   "outputs": [],
   "source": [
    "# Exibir o número de amostras em cada conjunto\n",
    "print(\"Número treino:\", len(X_train))\n",
    "print(\"Número teste:\", len(X_test))"
   ]
  },
  {
   "cell_type": "markdown",
   "metadata": {},
   "source": [
    "Passo 3: Treinar o Modelo\n",
    "\n",
    "Neste passo, vamos utilizar um modelo de classificação para prever o gênero com base nas demais informações do formulário. Vamos usar o algoritmo Random Forest, que é eficaz em lidar com dados categóricos e pode ser usado para classificação."
   ]
  },
  {
   "cell_type": "code",
   "execution_count": null,
   "metadata": {},
   "outputs": [],
   "source": [
    "\n",
    "\n",
    "# Inicializar o modelo\n",
    "modelo = RandomForestClassifier(random_state=42)\n"
   ]
  },
  {
   "cell_type": "code",
   "execution_count": null,
   "metadata": {},
   "outputs": [],
   "source": [
    "modelo"
   ]
  },
  {
   "cell_type": "code",
   "execution_count": null,
   "metadata": {},
   "outputs": [],
   "source": [
    "print(\"Dados de Treino:\")\n",
    "print(X_train.head())\n",
    "print(y_train.head())\n",
    "\n",
    "print(\"\\nValores ausentes nos dados de treino:\")\n",
    "print(X_train.isnull().sum())\n",
    "print(y_train.isnull().sum())\n"
   ]
  },
  {
   "cell_type": "code",
   "execution_count": null,
   "metadata": {},
   "outputs": [],
   "source": [
    "# Treinar o modelo nos dados de treino\n",
    "modelo.fit(X_train, y_train)\n",
    "\n",
    "# Fazer previsões nos dados de teste\n",
    "y_pred = modelo.predict(X_test)\n",
    "\n",
    "# Calcular a acurácia do modelo\n",
    "acuracia = accuracy_score(y_test, y_pred)\n",
    "print(\"Acurácia do modelo:\", acuracia)"
   ]
  },
  {
   "cell_type": "code",
   "execution_count": null,
   "metadata": {},
   "outputs": [],
   "source": [
    "y_pred"
   ]
  },
  {
   "cell_type": "code",
   "execution_count": null,
   "metadata": {},
   "outputs": [],
   "source": [
    "y_test"
   ]
  },
  {
   "cell_type": "code",
   "execution_count": null,
   "metadata": {},
   "outputs": [],
   "source": [
    "matriz_confusao = confusion_matrix(y_true = y_test,\n",
    "                                   y_pred = y_pred,\n",
    "                                   labels=['Masculino','Feminino'])"
   ]
  },
  {
   "cell_type": "code",
   "execution_count": null,
   "metadata": {},
   "outputs": [],
   "source": [
    "\n",
    "# plotando uma figura com a matriz de confusao\n",
    "figure = plt.figure(figsize=(15, 5))\n",
    "disp = ConfusionMatrixDisplay(confusion_matrix = matriz_confusao, display_labels=['Masculino','Feminino'])\n",
    "disp.plot(values_format='d') "
   ]
  },
  {
   "cell_type": "code",
   "execution_count": null,
   "metadata": {},
   "outputs": [],
   "source": [
    "accuracy_score(y_true = y_test, y_pred = y_pred,) "
   ]
  },
  {
   "cell_type": "code",
   "execution_count": null,
   "metadata": {},
   "outputs": [],
   "source": [
    "precision_score(y_true = y_test, \n",
    "         y_pred = y_pred,\n",
    "         pos_label=\"Feminino\") "
   ]
  },
  {
   "cell_type": "code",
   "execution_count": null,
   "metadata": {},
   "outputs": [],
   "source": [
    "recall_score(y_true = y_test, \n",
    "         y_pred = y_pred,\n",
    "         pos_label=\"Feminino\") "
   ]
  },
  {
   "cell_type": "code",
   "execution_count": null,
   "metadata": {},
   "outputs": [],
   "source": [
    "f1_score(y_true = y_test, \n",
    "         y_pred = y_pred,\n",
    "         pos_label=\"Feminino\") "
   ]
  },
  {
   "cell_type": "code",
   "execution_count": null,
   "metadata": {},
   "outputs": [],
   "source": [
    "# Metricas de precisão, revocação, f1-score e acurácia.\n",
    "print(classification_report(y_test, y_pred))"
   ]
  },
  {
   "cell_type": "markdown",
   "metadata": {},
   "source": [
    "Com base na análise dos gêneros, obtive os seguintes resultados:\n",
    "\n",
    "1. Precision (Precisão): 100% para ambos os gêneros, o que indica que todas as previsões de gênero foram corretas.\n",
    "\n",
    "2. Recall (Revocação): 100% para ambos os gêneros, indicando que o modelo identificou todos os casos de cada gênero corretamente.\n",
    "\n",
    "3. F1-Score: 100% para ambos os gêneros, uma média harmônica entre precisão e recall.\n",
    "Acurácia: 100%, o que significa que o modelo acertou todas as previsões em relação ao gênero.\n",
    "\n",
    "Esses resultados sugerem que o modelo foi capaz de prever com precisão e confiabilidade o gênero dos dados analisados, o que pode ser útil para suas análises administrativas."
   ]
  },
  {
   "cell_type": "markdown",
   "metadata": {},
   "source": [
    "## Processo para análise dos Estados"
   ]
  },
  {
   "cell_type": "code",
   "execution_count": null,
   "metadata": {},
   "outputs": [],
   "source": [
    "base_cadastro.head()"
   ]
  },
  {
   "cell_type": "code",
   "execution_count": null,
   "metadata": {},
   "outputs": [],
   "source": [
    "df_estado = pd.DataFrame(base_cadastro)"
   ]
  },
  {
   "cell_type": "code",
   "execution_count": null,
   "metadata": {},
   "outputs": [],
   "source": [
    "## Criar uma listagem com o nome dos Estados, pois eu só tenho o DDD.\n",
    "\n",
    "# Mapear o DDD para o estado correspondente\n",
    "ddd_estado = {\n",
    "    11: 'São Paulo',\n",
    "    31: 'Minas Gerais',\n",
    "    21: 'Rio de Janeiro',\n",
    "    12: 'Acre',\n",
    "    64: 'Tocantins',\n",
    "    51: 'Mato Grosso do Sul',\n",
    "    54: 'Paraná',\n",
    "    82: 'Sergipe',\n",
    "    38: 'Espírito Santo',\n",
    "    18: 'Pará',\n",
    "    68: 'Roraima',\n",
    "    78: 'Rondônia',\n",
    "    47: 'Santa Catarina',\n",
    "    83: 'Bahia',\n",
    "    61: 'Amapá',\n",
    "    32: 'Espirito Santo',\n",
    "    69: 'Amazonas',\n",
    "    56: 'Goiás',\n",
    "    76: 'Piauí',\n",
    "    14: 'Roraima'\n",
    "}\n"
   ]
  },
  {
   "cell_type": "code",
   "execution_count": null,
   "metadata": {},
   "outputs": [],
   "source": [
    "# Adicionar a coluna de estado ao dataframe\n",
    "df_estado['Estado'] = df_estado['DDD'].map(ddd_estado)"
   ]
  },
  {
   "cell_type": "code",
   "execution_count": null,
   "metadata": {},
   "outputs": [],
   "source": [
    "df_estado.head()"
   ]
  },
  {
   "cell_type": "code",
   "execution_count": null,
   "metadata": {},
   "outputs": [],
   "source": []
  },
  {
   "cell_type": "code",
   "execution_count": null,
   "metadata": {},
   "outputs": [],
   "source": [
    "## Apagar as colunas que não iremos utilizar na análise\n",
    "\n",
    "df2 = df_estado.drop(['Nome', 'Sobrenome', 'Email', 'Telefone', 'Senha', 'ConfirmacaoSenha', 'Empresa', 'Genero'], axis=1)\n"
   ]
  },
  {
   "cell_type": "code",
   "execution_count": null,
   "metadata": {},
   "outputs": [],
   "source": [
    "df2.head()"
   ]
  },
  {
   "cell_type": "markdown",
   "metadata": {},
   "source": [
    "Utilizando  regressão, vamos prever a quantidade de cadastros em cada estado. "
   ]
  },
  {
   "cell_type": "code",
   "execution_count": null,
   "metadata": {},
   "outputs": [],
   "source": [
    "# Divisão dos dados em treino e teste\n",
    "X = df2.drop(['DDD'], axis=1)  # Remover a coluna DDD, que não é necessária para a regressão\n",
    "y = df2['DDD']\n",
    "X_train, X_test, y_train, y_test = train_test_split(X, y, test_size=0.2, random_state=42)\n",
    "\n",
    "# Treinamento do modelo de regressão\n",
    "modelo = LinearRegression()\n",
    "modelo.fit(X_train, y_train)\n",
    "\n",
    "# Fazer previsões nos dados de teste\n",
    "y_pred = modelo.predict(X_test)\n",
    "\n",
    "# Avaliar o modelo\n",
    "score = modelo.score(X_test, y_test)\n",
    "print(\"Score do modelo:\", score)\n"
   ]
  },
  {
   "cell_type": "code",
   "execution_count": null,
   "metadata": {},
   "outputs": [],
   "source": [
    "modelo"
   ]
  },
  {
   "cell_type": "code",
   "execution_count": null,
   "metadata": {},
   "outputs": [],
   "source": [
    "y_pred"
   ]
  },
  {
   "cell_type": "code",
   "execution_count": null,
   "metadata": {},
   "outputs": [],
   "source": [
    "# Perceba que estamos passando apenas o x de teste, afinal o algoritmo é que nos dira qual é o y \n",
    "y_pred = lr.predict(X_test) "
   ]
  },
  {
   "cell_type": "code",
   "execution_count": null,
   "metadata": {},
   "outputs": [],
   "source": [
    "MAE = mean_absolute_error(y_true = y_test,\n",
    "                          y_pred = y_pred)\n",
    "print('MAE: ', MAE)\n",
    "\n",
    "## O MAE (Mean Absolute Error) é uma métrica que mede a diferença média absoluta entre as previsões de um modelo e os valores reais. No nosso caso, o MAE de aproximadamente 2.57 significa que, em média, as previsões do modelo estão errando em cerca de 2.57 unidades (no caso do DDD, que é uma variável categórica, isso não tem uma interpretação tão direta, mas indica a magnitude média do erro). Quanto menor o MAE, melhor, pois indica que o modelo está errando menos."
   ]
  },
  {
   "cell_type": "code",
   "execution_count": null,
   "metadata": {},
   "outputs": [],
   "source": [
    "MSE = mean_squared_error(y_true = y_test,\n",
    "                         y_pred = y_pred)\n",
    "print('MSE: ', MSE)\n",
    "print('raiz MSE: ', MSE**0.5)\n",
    "\n",
    "## O MSE (Mean Squared Error) é outra métrica comum para avaliar a qualidade de um modelo de regressão. Ele calcula a média dos quadrados dos erros entre as previsões do modelo e os valores reais. No nosso caso, um MSE de aproximadamente 71.94 indica que, em média, os quadrados dos erros das previsões do modelo são de cerca de 71.94 unidades (novamente, para variáveis categóricas como o DDD, isso não tem uma interpretação direta em termos de \"unidades\").\n",
    "\n",
    "## A raiz quadrada do MSE, chamada de RMSE (Root Mean Squared Error), é uma métrica mais intuitiva, pois está na mesma unidade que a variável de destino. No seu caso, o RMSE de aproximadamente 8.48 indica que, em média, o seu modelo erra cerca de 8.48 unidades ao prever o estado com base no DDD. Assim como o MAE, quanto menor o RMSE, melhor o desempenho do modelo."
   ]
  },
  {
   "cell_type": "code",
   "execution_count": null,
   "metadata": {},
   "outputs": [],
   "source": [
    "R2 = r2_score(y_true = y_test,\n",
    "              y_pred = y_pred)\n",
    "print('R2: ', R2)  # Quanto mais próximos de 1 melhor\n",
    "\n",
    "## Um R² de 0.7722950796023456 indica que aproximadamente 77.23% da variabilidade dos dados em torno da média é explicada pelo modelo. Isso sugere um bom ajuste do modelo aos dados, mas ainda há margem para melhorias. Em geral, quanto mais próximo de 1, melhor o ajuste do modelo."
   ]
  },
  {
   "cell_type": "code",
   "execution_count": null,
   "metadata": {},
   "outputs": [],
   "source": [
    "rho = pearsonr(y_test, y_pred)\n",
    "print('\\u03C1:', rho[0]) # Quanto mais próximo de 1, melhor\n",
    "\n",
    "## Um coeficiente de correlação de Pearson (ρ) de 0.9321416194253248 indica uma forte correlação positiva entre as variáveis previstas pelo modelo e os valores reais. Isso sugere que o modelo tem uma boa capacidade de prever os valores reais."
   ]
  },
  {
   "cell_type": "markdown",
   "metadata": {},
   "source": [
    "Com base nos resultados obtidos da análise de regressão, podemos concluir que há uma relação significativa entre o DDD dos clientes (indicativo de estado) e a propensão de se cadastrarem. O modelo apresentou uma acurácia de aproximadamente 77.2%, indicando uma capacidade razoável de prever se um cliente de determinado estado realizará o cadastro. Além disso, o valor do coeficiente de determinação (R²) de aproximadamente 0.772 sugere que cerca de 77.2% da variabilidade na propensão ao cadastro pode ser explicada pelas diferenças nos DDDs dos clientes. Esses resultados indicam que o modelo de regressão linear pode ser útil para identificar estados onde concentrar esforços e melhorar a experiência do usuário, visando aumentar as taxas de cadastro."
   ]
  },
  {
   "cell_type": "markdown",
   "metadata": {},
   "source": [
    "## Processo para análise do dominio do E-mail"
   ]
  },
  {
   "cell_type": "code",
   "execution_count": 3,
   "metadata": {},
   "outputs": [
    {
     "data": {
      "text/html": [
       "<div>\n",
       "<style scoped>\n",
       "    .dataframe tbody tr th:only-of-type {\n",
       "        vertical-align: middle;\n",
       "    }\n",
       "\n",
       "    .dataframe tbody tr th {\n",
       "        vertical-align: top;\n",
       "    }\n",
       "\n",
       "    .dataframe thead th {\n",
       "        text-align: right;\n",
       "    }\n",
       "</style>\n",
       "<table border=\"1\" class=\"dataframe\">\n",
       "  <thead>\n",
       "    <tr style=\"text-align: right;\">\n",
       "      <th></th>\n",
       "      <th>Nome</th>\n",
       "      <th>Sobrenome</th>\n",
       "      <th>Email</th>\n",
       "      <th>Telefone</th>\n",
       "      <th>Senha</th>\n",
       "      <th>ConfirmacaoSenha</th>\n",
       "      <th>Genero</th>\n",
       "      <th>Empresa</th>\n",
       "      <th>DDD</th>\n",
       "    </tr>\n",
       "  </thead>\n",
       "  <tbody>\n",
       "    <tr>\n",
       "      <th>0</th>\n",
       "      <td>Alice</td>\n",
       "      <td>Silva</td>\n",
       "      <td>alice@gmail.com</td>\n",
       "      <td>11987654321</td>\n",
       "      <td>123456</td>\n",
       "      <td>123456</td>\n",
       "      <td>Feminino</td>\n",
       "      <td>Empresa1</td>\n",
       "      <td>11</td>\n",
       "    </tr>\n",
       "    <tr>\n",
       "      <th>1</th>\n",
       "      <td>Bob</td>\n",
       "      <td>Souza</td>\n",
       "      <td>bob@gmail.com</td>\n",
       "      <td>11958856655</td>\n",
       "      <td>abcdef</td>\n",
       "      <td>abcdef</td>\n",
       "      <td>Masculino</td>\n",
       "      <td>Empresa2</td>\n",
       "      <td>11</td>\n",
       "    </tr>\n",
       "    <tr>\n",
       "      <th>2</th>\n",
       "      <td>Carlos</td>\n",
       "      <td>Oliveira</td>\n",
       "      <td>carlos@gmail.com</td>\n",
       "      <td>11991234567</td>\n",
       "      <td>789654</td>\n",
       "      <td>789654</td>\n",
       "      <td>Feminino</td>\n",
       "      <td>Empresa3</td>\n",
       "      <td>11</td>\n",
       "    </tr>\n",
       "    <tr>\n",
       "      <th>3</th>\n",
       "      <td>Daniel</td>\n",
       "      <td>Santos</td>\n",
       "      <td>daniel@github.com.br</td>\n",
       "      <td>11987654321</td>\n",
       "      <td>123abc</td>\n",
       "      <td>password</td>\n",
       "      <td>Prefiro não dizer</td>\n",
       "      <td>Empresa4</td>\n",
       "      <td>11</td>\n",
       "    </tr>\n",
       "    <tr>\n",
       "      <th>4</th>\n",
       "      <td>Eduarda</td>\n",
       "      <td>Cavalcanti</td>\n",
       "      <td>eduarda@gmail.com</td>\n",
       "      <td>11958856655</td>\n",
       "      <td>123abc</td>\n",
       "      <td>123abc</td>\n",
       "      <td>Feminino</td>\n",
       "      <td>Empresa5</td>\n",
       "      <td>11</td>\n",
       "    </tr>\n",
       "  </tbody>\n",
       "</table>\n",
       "</div>"
      ],
      "text/plain": [
       "      Nome   Sobrenome                 Email     Telefone   Senha  \\\n",
       "0    Alice       Silva       alice@gmail.com  11987654321  123456   \n",
       "1      Bob       Souza         bob@gmail.com  11958856655  abcdef   \n",
       "2   Carlos    Oliveira      carlos@gmail.com  11991234567  789654   \n",
       "3   Daniel      Santos  daniel@github.com.br  11987654321  123abc   \n",
       "4  Eduarda  Cavalcanti     eduarda@gmail.com  11958856655  123abc   \n",
       "\n",
       "  ConfirmacaoSenha             Genero   Empresa  DDD  \n",
       "0           123456           Feminino  Empresa1   11  \n",
       "1           abcdef          Masculino  Empresa2   11  \n",
       "2           789654           Feminino  Empresa3   11  \n",
       "3         password  Prefiro não dizer  Empresa4   11  \n",
       "4           123abc           Feminino  Empresa5   11  "
      ]
     },
     "execution_count": 3,
     "metadata": {},
     "output_type": "execute_result"
    }
   ],
   "source": [
    "base_cadastro.head()"
   ]
  },
  {
   "cell_type": "code",
   "execution_count": 4,
   "metadata": {},
   "outputs": [],
   "source": [
    "df3 = pd.DataFrame(base_cadastro)"
   ]
  },
  {
   "cell_type": "code",
   "execution_count": 5,
   "metadata": {},
   "outputs": [
    {
     "data": {
      "text/html": [
       "<div>\n",
       "<style scoped>\n",
       "    .dataframe tbody tr th:only-of-type {\n",
       "        vertical-align: middle;\n",
       "    }\n",
       "\n",
       "    .dataframe tbody tr th {\n",
       "        vertical-align: top;\n",
       "    }\n",
       "\n",
       "    .dataframe thead th {\n",
       "        text-align: right;\n",
       "    }\n",
       "</style>\n",
       "<table border=\"1\" class=\"dataframe\">\n",
       "  <thead>\n",
       "    <tr style=\"text-align: right;\">\n",
       "      <th></th>\n",
       "      <th>Nome</th>\n",
       "      <th>Sobrenome</th>\n",
       "      <th>Email</th>\n",
       "      <th>Telefone</th>\n",
       "      <th>Senha</th>\n",
       "      <th>ConfirmacaoSenha</th>\n",
       "      <th>Genero</th>\n",
       "      <th>Empresa</th>\n",
       "      <th>DDD</th>\n",
       "      <th>Dominio_Email</th>\n",
       "    </tr>\n",
       "  </thead>\n",
       "  <tbody>\n",
       "    <tr>\n",
       "      <th>0</th>\n",
       "      <td>Alice</td>\n",
       "      <td>Silva</td>\n",
       "      <td>alice@gmail.com</td>\n",
       "      <td>11987654321</td>\n",
       "      <td>123456</td>\n",
       "      <td>123456</td>\n",
       "      <td>Feminino</td>\n",
       "      <td>Empresa1</td>\n",
       "      <td>11</td>\n",
       "      <td>gmail.com</td>\n",
       "    </tr>\n",
       "    <tr>\n",
       "      <th>1</th>\n",
       "      <td>Bob</td>\n",
       "      <td>Souza</td>\n",
       "      <td>bob@gmail.com</td>\n",
       "      <td>11958856655</td>\n",
       "      <td>abcdef</td>\n",
       "      <td>abcdef</td>\n",
       "      <td>Masculino</td>\n",
       "      <td>Empresa2</td>\n",
       "      <td>11</td>\n",
       "      <td>gmail.com</td>\n",
       "    </tr>\n",
       "    <tr>\n",
       "      <th>2</th>\n",
       "      <td>Carlos</td>\n",
       "      <td>Oliveira</td>\n",
       "      <td>carlos@gmail.com</td>\n",
       "      <td>11991234567</td>\n",
       "      <td>789654</td>\n",
       "      <td>789654</td>\n",
       "      <td>Feminino</td>\n",
       "      <td>Empresa3</td>\n",
       "      <td>11</td>\n",
       "      <td>gmail.com</td>\n",
       "    </tr>\n",
       "    <tr>\n",
       "      <th>3</th>\n",
       "      <td>Daniel</td>\n",
       "      <td>Santos</td>\n",
       "      <td>daniel@github.com.br</td>\n",
       "      <td>11987654321</td>\n",
       "      <td>123abc</td>\n",
       "      <td>password</td>\n",
       "      <td>Prefiro não dizer</td>\n",
       "      <td>Empresa4</td>\n",
       "      <td>11</td>\n",
       "      <td>github.com.br</td>\n",
       "    </tr>\n",
       "    <tr>\n",
       "      <th>4</th>\n",
       "      <td>Eduarda</td>\n",
       "      <td>Cavalcanti</td>\n",
       "      <td>eduarda@gmail.com</td>\n",
       "      <td>11958856655</td>\n",
       "      <td>123abc</td>\n",
       "      <td>123abc</td>\n",
       "      <td>Feminino</td>\n",
       "      <td>Empresa5</td>\n",
       "      <td>11</td>\n",
       "      <td>gmail.com</td>\n",
       "    </tr>\n",
       "  </tbody>\n",
       "</table>\n",
       "</div>"
      ],
      "text/plain": [
       "      Nome   Sobrenome                 Email     Telefone   Senha  \\\n",
       "0    Alice       Silva       alice@gmail.com  11987654321  123456   \n",
       "1      Bob       Souza         bob@gmail.com  11958856655  abcdef   \n",
       "2   Carlos    Oliveira      carlos@gmail.com  11991234567  789654   \n",
       "3   Daniel      Santos  daniel@github.com.br  11987654321  123abc   \n",
       "4  Eduarda  Cavalcanti     eduarda@gmail.com  11958856655  123abc   \n",
       "\n",
       "  ConfirmacaoSenha             Genero   Empresa  DDD  Dominio_Email  \n",
       "0           123456           Feminino  Empresa1   11      gmail.com  \n",
       "1           abcdef          Masculino  Empresa2   11      gmail.com  \n",
       "2           789654           Feminino  Empresa3   11      gmail.com  \n",
       "3         password  Prefiro não dizer  Empresa4   11  github.com.br  \n",
       "4           123abc           Feminino  Empresa5   11      gmail.com  "
      ]
     },
     "execution_count": 5,
     "metadata": {},
     "output_type": "execute_result"
    }
   ],
   "source": [
    "# Criar uma nova coluna com o domínio do e-mail, precisamos somente do domínio aqui e não dos demais dados.\n",
    "df3['Dominio_Email'] = df3['Email'].apply(lambda x: x.split('@')[1])\n",
    "\n",
    "# Exibir as primeiras linhas do DataFrame após a modificação\n",
    "df3.head()\n"
   ]
  },
  {
   "cell_type": "code",
   "execution_count": 6,
   "metadata": {},
   "outputs": [],
   "source": [
    "# Precisamos tirar o .com e deixar somente o nome do domínio\n",
    "df3['Dominio_Email'] = df3['Dominio_Email'].str.replace('.com', '')\n",
    "\n",
    "df3['Dominio_Email'] = df3['Dominio_Email'].str.replace('.br', '')\n"
   ]
  },
  {
   "cell_type": "code",
   "execution_count": 7,
   "metadata": {},
   "outputs": [
    {
     "data": {
      "text/plain": [
       "array(['gmail', 'github', 'linkedin'], dtype=object)"
      ]
     },
     "execution_count": 7,
     "metadata": {},
     "output_type": "execute_result"
    }
   ],
   "source": [
    "df3['Dominio_Email'].unique()"
   ]
  },
  {
   "cell_type": "code",
   "execution_count": 8,
   "metadata": {},
   "outputs": [
    {
     "data": {
      "text/html": [
       "<div>\n",
       "<style scoped>\n",
       "    .dataframe tbody tr th:only-of-type {\n",
       "        vertical-align: middle;\n",
       "    }\n",
       "\n",
       "    .dataframe tbody tr th {\n",
       "        vertical-align: top;\n",
       "    }\n",
       "\n",
       "    .dataframe thead th {\n",
       "        text-align: right;\n",
       "    }\n",
       "</style>\n",
       "<table border=\"1\" class=\"dataframe\">\n",
       "  <thead>\n",
       "    <tr style=\"text-align: right;\">\n",
       "      <th></th>\n",
       "      <th>Dominio_Email</th>\n",
       "    </tr>\n",
       "  </thead>\n",
       "  <tbody>\n",
       "    <tr>\n",
       "      <th>0</th>\n",
       "      <td>gmail</td>\n",
       "    </tr>\n",
       "    <tr>\n",
       "      <th>1</th>\n",
       "      <td>gmail</td>\n",
       "    </tr>\n",
       "    <tr>\n",
       "      <th>2</th>\n",
       "      <td>gmail</td>\n",
       "    </tr>\n",
       "    <tr>\n",
       "      <th>3</th>\n",
       "      <td>github</td>\n",
       "    </tr>\n",
       "    <tr>\n",
       "      <th>4</th>\n",
       "      <td>gmail</td>\n",
       "    </tr>\n",
       "  </tbody>\n",
       "</table>\n",
       "</div>"
      ],
      "text/plain": [
       "  Dominio_Email\n",
       "0         gmail\n",
       "1         gmail\n",
       "2         gmail\n",
       "3        github\n",
       "4         gmail"
      ]
     },
     "execution_count": 8,
     "metadata": {},
     "output_type": "execute_result"
    }
   ],
   "source": [
    "## Apagar as colunas que não iremos utilizar na análise\n",
    "\n",
    "df3 = df3.drop(['Nome', 'Sobrenome', 'Email', 'Telefone', 'Senha', 'ConfirmacaoSenha', 'Empresa', 'Genero', 'DDD'], axis=1)\n",
    "\n",
    "df3.head()"
   ]
  },
  {
   "cell_type": "code",
   "execution_count": 9,
   "metadata": {},
   "outputs": [],
   "source": [
    "#Para utilizar a coluna \"Dominio_Email\" como variável de entrada em um algoritmo de classificação, é necessário convertê-la para o tipo categórico. Isso permitirá que o algoritmo interprete os diferentes domínios como categorias distintas.\n",
    "\n",
    "df3['Dominio_Email'] = df3['Dominio_Email'].str.strip()  # Remove espaços em branco extras\n",
    "df3['Dominio_categoria'] = df3['Dominio_Email'].astype('category')\n",
    "\n",
    "# Criando uma nova coluna com os códigos numéricos para cada categoria\n",
    "df3['Dominio_codigo'] = df3['Dominio_categoria'].cat.codes\n"
   ]
  },
  {
   "cell_type": "code",
   "execution_count": 10,
   "metadata": {},
   "outputs": [],
   "source": [
    "# Criar uma coluna que mostre se o usuario fez o login de forma simples, usando a API do gmail ou se precisou se cadastrar (será representado pelos demais dominios). Se o resultado for 0, significa que ele usou o gmail e fez utilizando a API, já 1 ele se cadastrou.\n",
    "\n",
    "df3['login_sem_cadastro'] = df3['Dominio_Email'].apply(lambda x: 0 if x == 'gmail' else 1)\n"
   ]
  },
  {
   "cell_type": "code",
   "execution_count": 11,
   "metadata": {},
   "outputs": [
    {
     "data": {
      "text/html": [
       "<div>\n",
       "<style scoped>\n",
       "    .dataframe tbody tr th:only-of-type {\n",
       "        vertical-align: middle;\n",
       "    }\n",
       "\n",
       "    .dataframe tbody tr th {\n",
       "        vertical-align: top;\n",
       "    }\n",
       "\n",
       "    .dataframe thead th {\n",
       "        text-align: right;\n",
       "    }\n",
       "</style>\n",
       "<table border=\"1\" class=\"dataframe\">\n",
       "  <thead>\n",
       "    <tr style=\"text-align: right;\">\n",
       "      <th></th>\n",
       "      <th>Dominio_Email</th>\n",
       "      <th>Dominio_categoria</th>\n",
       "      <th>Dominio_codigo</th>\n",
       "      <th>login_sem_cadastro</th>\n",
       "    </tr>\n",
       "  </thead>\n",
       "  <tbody>\n",
       "    <tr>\n",
       "      <th>0</th>\n",
       "      <td>gmail</td>\n",
       "      <td>gmail</td>\n",
       "      <td>1</td>\n",
       "      <td>0</td>\n",
       "    </tr>\n",
       "    <tr>\n",
       "      <th>1</th>\n",
       "      <td>gmail</td>\n",
       "      <td>gmail</td>\n",
       "      <td>1</td>\n",
       "      <td>0</td>\n",
       "    </tr>\n",
       "    <tr>\n",
       "      <th>2</th>\n",
       "      <td>gmail</td>\n",
       "      <td>gmail</td>\n",
       "      <td>1</td>\n",
       "      <td>0</td>\n",
       "    </tr>\n",
       "    <tr>\n",
       "      <th>3</th>\n",
       "      <td>github</td>\n",
       "      <td>github</td>\n",
       "      <td>0</td>\n",
       "      <td>1</td>\n",
       "    </tr>\n",
       "    <tr>\n",
       "      <th>4</th>\n",
       "      <td>gmail</td>\n",
       "      <td>gmail</td>\n",
       "      <td>1</td>\n",
       "      <td>0</td>\n",
       "    </tr>\n",
       "    <tr>\n",
       "      <th>...</th>\n",
       "      <td>...</td>\n",
       "      <td>...</td>\n",
       "      <td>...</td>\n",
       "      <td>...</td>\n",
       "    </tr>\n",
       "    <tr>\n",
       "      <th>111</th>\n",
       "      <td>linkedin</td>\n",
       "      <td>linkedin</td>\n",
       "      <td>2</td>\n",
       "      <td>1</td>\n",
       "    </tr>\n",
       "    <tr>\n",
       "      <th>112</th>\n",
       "      <td>linkedin</td>\n",
       "      <td>linkedin</td>\n",
       "      <td>2</td>\n",
       "      <td>1</td>\n",
       "    </tr>\n",
       "    <tr>\n",
       "      <th>113</th>\n",
       "      <td>gmail</td>\n",
       "      <td>gmail</td>\n",
       "      <td>1</td>\n",
       "      <td>0</td>\n",
       "    </tr>\n",
       "    <tr>\n",
       "      <th>114</th>\n",
       "      <td>gmail</td>\n",
       "      <td>gmail</td>\n",
       "      <td>1</td>\n",
       "      <td>0</td>\n",
       "    </tr>\n",
       "    <tr>\n",
       "      <th>115</th>\n",
       "      <td>gmail</td>\n",
       "      <td>gmail</td>\n",
       "      <td>1</td>\n",
       "      <td>0</td>\n",
       "    </tr>\n",
       "  </tbody>\n",
       "</table>\n",
       "<p>116 rows × 4 columns</p>\n",
       "</div>"
      ],
      "text/plain": [
       "    Dominio_Email Dominio_categoria  Dominio_codigo  login_sem_cadastro\n",
       "0           gmail             gmail               1                   0\n",
       "1           gmail             gmail               1                   0\n",
       "2           gmail             gmail               1                   0\n",
       "3          github            github               0                   1\n",
       "4           gmail             gmail               1                   0\n",
       "..            ...               ...             ...                 ...\n",
       "111      linkedin          linkedin               2                   1\n",
       "112      linkedin          linkedin               2                   1\n",
       "113         gmail             gmail               1                   0\n",
       "114         gmail             gmail               1                   0\n",
       "115         gmail             gmail               1                   0\n",
       "\n",
       "[116 rows x 4 columns]"
      ]
     },
     "execution_count": 11,
     "metadata": {},
     "output_type": "execute_result"
    }
   ],
   "source": [
    "df3"
   ]
  },
  {
   "cell_type": "code",
   "execution_count": 12,
   "metadata": {},
   "outputs": [
    {
     "name": "stdout",
     "output_type": "stream",
     "text": [
      "<class 'pandas.core.frame.DataFrame'>\n",
      "RangeIndex: 116 entries, 0 to 115\n",
      "Data columns (total 4 columns):\n",
      " #   Column              Non-Null Count  Dtype   \n",
      "---  ------              --------------  -----   \n",
      " 0   Dominio_Email       116 non-null    object  \n",
      " 1   Dominio_categoria   116 non-null    category\n",
      " 2   Dominio_codigo      116 non-null    int8    \n",
      " 3   login_sem_cadastro  116 non-null    int64   \n",
      "dtypes: category(1), int64(1), int8(1), object(1)\n",
      "memory usage: 2.3+ KB\n"
     ]
    }
   ],
   "source": [
    "df3.info()"
   ]
  },
  {
   "cell_type": "code",
   "execution_count": null,
   "metadata": {},
   "outputs": [],
   "source": [
    "## Processo sem balencear minhas classes\n",
    "\n",
    "# Dividir os dados em treino e teste\n",
    "X = df3[['Dominio_codigo']]\n",
    "y = df3['login_sem_cadastro']\n",
    "\n",
    "X_train, X_test, y_train, y_test = train_test_split(X, y, test_size=0.3, random_state=42)\n",
    "\n",
    "# Treinar o modelo\n",
    "modelo = LogisticRegression()\n",
    "modelo.fit(X_train, y_train)\n",
    "\n",
    "# Fazer previsões nos dados de teste\n",
    "y_pred = modelo.predict(X_test)\n",
    "\n",
    "# Calcular a acurácia do modelo\n",
    "acuracia = accuracy_score(y_test, y_pred)\n",
    "print(\"Acurácia do modelo:\", acuracia)"
   ]
  },
  {
   "cell_type": "code",
   "execution_count": 14,
   "metadata": {},
   "outputs": [
    {
     "name": "stdout",
     "output_type": "stream",
     "text": [
      "Acurácia do modelo após oversampling: 0.8857142857142857\n"
     ]
    }
   ],
   "source": [
    "## Processo balanceando minhas classes.\n",
    "\n",
    "from imblearn.over_sampling import RandomOverSampler\n",
    "\n",
    "# Dividir os dados em treino e teste\n",
    "X = df3[['Dominio_codigo']]\n",
    "y = df3['login_sem_cadastro']\n",
    "\n",
    "X_train, X_test, y_train, y_test = train_test_split(X, y, test_size=0.3, random_state=42)\n",
    "\n",
    "# Criar o objeto RandomOverSampler\n",
    "oversampler = RandomOverSampler(random_state=42)\n",
    "\n",
    "# Aplicar o oversampling aos dados de treino\n",
    "X_train_resampled, y_train_resampled = oversampler.fit_resample(X_train, y_train)\n",
    "\n",
    "# Treinar o modelo com os dados resampleados\n",
    "modelo = LogisticRegression()\n",
    "modelo.fit(X_train_resampled, y_train_resampled)\n",
    "\n",
    "# Fazer previsões nos dados de teste\n",
    "y_pred = modelo.predict(X_test)\n",
    "\n",
    "# Calcular a acurácia do modelo\n",
    "acuracia = accuracy_score(y_test, y_pred)\n",
    "print(\"Acurácia do modelo após oversampling:\", acuracia)\n"
   ]
  },
  {
   "cell_type": "code",
   "execution_count": 18,
   "metadata": {},
   "outputs": [],
   "source": [
    "matriz_confusao = confusion_matrix(y_true = y_test,\n",
    "                                   y_pred = y_pred,\n",
    "                                   labels=[0,1])"
   ]
  },
  {
   "cell_type": "code",
   "execution_count": 19,
   "metadata": {},
   "outputs": [
    {
     "data": {
      "text/plain": [
       "<sklearn.metrics._plot.confusion_matrix.ConfusionMatrixDisplay at 0x208edbe2900>"
      ]
     },
     "execution_count": 19,
     "metadata": {},
     "output_type": "execute_result"
    },
    {
     "data": {
      "text/plain": [
       "<Figure size 1500x500 with 0 Axes>"
      ]
     },
     "metadata": {},
     "output_type": "display_data"
    },
    {
     "data": {
      "image/png": "[encoded data removed]",
      "text/plain": [
       "<Figure size 640x480 with 2 Axes>"
      ]
     },
     "metadata": {},
     "output_type": "display_data"
    }
   ],
   "source": [
    "# plotando uma figura com a matriz de confusao\n",
    "figure = plt.figure(figsize=(15, 5))\n",
    "disp = ConfusionMatrixDisplay(confusion_matrix = matriz_confusao, display_labels=['Sem_cadastro','Realizou_cadastro'])\n",
    "disp.plot(values_format='d') "
   ]
  },
  {
   "cell_type": "code",
   "execution_count": 20,
   "metadata": {},
   "outputs": [
    {
     "data": {
      "text/plain": [
       "0.8857142857142857"
      ]
     },
     "execution_count": 20,
     "metadata": {},
     "output_type": "execute_result"
    }
   ],
   "source": [
    "accuracy_score(y_true = y_test, y_pred = y_pred,) "
   ]
  },
  {
   "cell_type": "code",
   "execution_count": 21,
   "metadata": {},
   "outputs": [
    {
     "data": {
      "text/plain": [
       "0.8620689655172413"
      ]
     },
     "execution_count": 21,
     "metadata": {},
     "output_type": "execute_result"
    }
   ],
   "source": [
    "precision_score(y_true = y_test, \n",
    "         y_pred = y_pred,\n",
    "         pos_label=0) "
   ]
  },
  {
   "cell_type": "code",
   "execution_count": 22,
   "metadata": {},
   "outputs": [
    {
     "data": {
      "text/plain": [
       "1.0"
      ]
     },
     "execution_count": 22,
     "metadata": {},
     "output_type": "execute_result"
    }
   ],
   "source": [
    "recall_score(y_true = y_test, \n",
    "         y_pred = y_pred,\n",
    "         pos_label=0) "
   ]
  },
  {
   "cell_type": "code",
   "execution_count": 23,
   "metadata": {},
   "outputs": [
    {
     "data": {
      "text/plain": [
       "0.9259259259259259"
      ]
     },
     "execution_count": 23,
     "metadata": {},
     "output_type": "execute_result"
    }
   ],
   "source": [
    "f1_score(y_true = y_test, \n",
    "         y_pred = y_pred,\n",
    "         pos_label=0) "
   ]
  },
  {
   "cell_type": "code",
   "execution_count": 24,
   "metadata": {},
   "outputs": [
    {
     "name": "stdout",
     "output_type": "stream",
     "text": [
      "              precision    recall  f1-score   support\n",
      "\n",
      "           0       0.86      1.00      0.93        25\n",
      "           1       1.00      0.60      0.75        10\n",
      "\n",
      "    accuracy                           0.89        35\n",
      "   macro avg       0.93      0.80      0.84        35\n",
      "weighted avg       0.90      0.89      0.88        35\n",
      "\n"
     ]
    }
   ],
   "source": [
    "# Metricas de precisão, revocação, f1-score e acurácia.\n",
    "print(classification_report(y_test, y_pred))"
   ]
  },
  {
   "cell_type": "markdown",
   "metadata": {},
   "source": [
    "Após aplicar o método de oversampling para balancear as classes, o modelo de classificação apresentou melhorias significativas em sua capacidade de prever se um usuário prefere fazer login diretamente ou se cadastrou previamente. Antes do balanceamento, a acurácia do modelo era de 66.67%, o que indicava um desempenho limitado na identificação da classe minoritária de usuários que preferem fazer login sem cadastro.\n",
    "\n",
    "Após o balanceamento, a acurácia do modelo subiu para 88.57%, evidenciando uma melhora substancial. As métricas de precisão, recall e f1-score também demonstraram melhorias significativas, especialmente para a classe minoritária. A precisão para a classe de login sem cadastro aumentou para 100%, indicando que o modelo não está mais cometendo erros ao prever essa classe. O recall para essa classe subiu para 60%, o que significa que o modelo está identificando corretamente a maioria dos casos de login sem cadastro.\n",
    "\n",
    "Em resumo, o oversampling ajudou a melhorar o desempenho do modelo, tornando-o mais eficaz na identificação das preferências de login dos usuários. Isso sugere que a implementação de serviços que permitam login direto, como a integração com a API do Google, pode ser uma estratégia eficaz para melhorar a experiência do usuário no site."
   ]
  }
 ],
 "metadata": {
  "kernelspec": {
   "display_name": "Python 3",
   "language": "python",
   "name": "python3"
  },
  "language_info": {
   "codemirror_mode": {
    "name": "ipython",
    "version": 3
   },
   "file_extension": ".py",
   "mimetype": "text/x-python",
   "name": "python",
   "nbconvert_exporter": "python",
   "pygments_lexer": "ipython3",
   "version": "3.12.3"
  }
 },
 "nbformat": 4,
 "nbformat_minor": 2
}
